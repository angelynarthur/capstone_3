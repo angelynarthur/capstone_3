{
 "cells": [
  {
   "cell_type": "code",
   "execution_count": 1,
   "metadata": {},
   "outputs": [
    {
     "name": "stdout",
     "output_type": "stream",
     "text": [
      "Populating the interactive namespace from numpy and matplotlib\n"
     ]
    }
   ],
   "source": [
    "import numpy as np\n",
    "import pandas as pd\n",
    "import matplotlib.pyplot as plt\n",
    "import seaborn as sns\n",
    "import datetime as dt\n",
    "\n",
    "%pylab inline\n",
    "\n",
    "\n",
    "import statsmodels.formula.api as smf"
   ]
  },
  {
   "cell_type": "code",
   "execution_count": 2,
   "metadata": {},
   "outputs": [],
   "source": [
    "df1 = pd.read_csv('olist_orders_dataset.csv')\n",
    "\n",
    "df2 = pd.read_csv('olist_order_payments_dataset.csv')\n",
    "df3 = pd.read_csv('olist_order_items_dataset.csv')\n",
    "\n",
    "df4 = pd.read_csv('olist_order_reviews_dataset.csv')\n",
    "\n",
    "df5 = pd.read_csv('olist_customers_dataset.csv')\n",
    "\n",
    "df6 = pd.read_csv('olist_products_dataset.csv')"
   ]
  },
  {
   "cell_type": "code",
   "execution_count": 5,
   "metadata": {
    "scrolled": true
   },
   "outputs": [
    {
     "name": "stdout",
     "output_type": "stream",
     "text": [
      "<class 'pandas.core.frame.DataFrame'>\n",
      "RangeIndex: 99441 entries, 0 to 99440\n",
      "Data columns (total 5 columns):\n",
      "customer_id                 99441 non-null object\n",
      "customer_unique_id          99441 non-null object\n",
      "customer_zip_code_prefix    99441 non-null int64\n",
      "customer_city               99441 non-null object\n",
      "customer_state              99441 non-null object\n",
      "dtypes: int64(1), object(4)\n",
      "memory usage: 3.8+ MB\n"
     ]
    }
   ],
   "source": [
    "df5.info()"
   ]
  },
  {
   "cell_type": "code",
   "execution_count": 6,
   "metadata": {},
   "outputs": [
    {
     "name": "stdout",
     "output_type": "stream",
     "text": [
      "<class 'pandas.core.frame.DataFrame'>\n",
      "RangeIndex: 99441 entries, 0 to 99440\n",
      "Data columns (total 8 columns):\n",
      "order_id                         99441 non-null object\n",
      "customer_id                      99441 non-null object\n",
      "order_status                     99441 non-null object\n",
      "order_purchase_timestamp         99441 non-null object\n",
      "order_approved_at                99281 non-null object\n",
      "order_delivered_carrier_date     97658 non-null object\n",
      "order_delivered_customer_date    96476 non-null object\n",
      "order_estimated_delivery_date    99441 non-null object\n",
      "dtypes: object(8)\n",
      "memory usage: 6.1+ MB\n"
     ]
    }
   ],
   "source": [
    "df1.info()"
   ]
  },
  {
   "cell_type": "code",
   "execution_count": 3,
   "metadata": {},
   "outputs": [],
   "source": [
    "#first merge orders and payments table\n",
    "\n",
    "inner_merge = pd.merge(df1, df2, on = 'order_id', how = 'inner')"
   ]
  },
  {
   "cell_type": "code",
   "execution_count": 4,
   "metadata": {},
   "outputs": [],
   "source": [
    "#second merge orders, payments, customers tables\n",
    "inner_merge2 = pd.merge(inner_merge, df5, on = 'customer_id', how = 'inner')"
   ]
  },
  {
   "cell_type": "code",
   "execution_count": 8,
   "metadata": {},
   "outputs": [
    {
     "name": "stdout",
     "output_type": "stream",
     "text": [
      "<class 'pandas.core.frame.DataFrame'>\n",
      "Int64Index: 103886 entries, 0 to 103885\n",
      "Data columns (total 16 columns):\n",
      "order_id                         103886 non-null object\n",
      "customer_id                      103886 non-null object\n",
      "order_status                     103886 non-null object\n",
      "order_purchase_timestamp         103886 non-null object\n",
      "order_approved_at                103711 non-null object\n",
      "order_delivered_carrier_date     101998 non-null object\n",
      "order_delivered_customer_date    100754 non-null object\n",
      "order_estimated_delivery_date    103886 non-null object\n",
      "payment_sequential               103886 non-null int64\n",
      "payment_type                     103886 non-null object\n",
      "payment_installments             103886 non-null int64\n",
      "payment_value                    103886 non-null float64\n",
      "customer_unique_id               103886 non-null object\n",
      "customer_zip_code_prefix         103886 non-null int64\n",
      "customer_city                    103886 non-null object\n",
      "customer_state                   103886 non-null object\n",
      "dtypes: float64(1), int64(3), object(12)\n",
      "memory usage: 13.5+ MB\n"
     ]
    }
   ],
   "source": [
    "inner_merge2.info()"
   ]
  },
  {
   "cell_type": "code",
   "execution_count": 5,
   "metadata": {},
   "outputs": [],
   "source": [
    "#third merge previous 3 tables with order reviews table \n",
    "\n",
    "inner_merge3 = pd.merge(inner_merge2, df4, on = 'order_id', how = 'inner')\n"
   ]
  },
  {
   "cell_type": "code",
   "execution_count": 12,
   "metadata": {
    "scrolled": false
   },
   "outputs": [
    {
     "name": "stdout",
     "output_type": "stream",
     "text": [
      "<class 'pandas.core.frame.DataFrame'>\n",
      "Int64Index: 104485 entries, 0 to 104484\n",
      "Data columns (total 22 columns):\n",
      "order_id                         104485 non-null object\n",
      "customer_id                      104485 non-null object\n",
      "order_status                     104485 non-null object\n",
      "order_purchase_timestamp         104485 non-null object\n",
      "order_approved_at                104309 non-null object\n",
      "order_delivered_carrier_date     102587 non-null object\n",
      "order_delivered_customer_date    101331 non-null object\n",
      "order_estimated_delivery_date    104485 non-null object\n",
      "payment_sequential               104485 non-null int64\n",
      "payment_type                     104485 non-null object\n",
      "payment_installments             104485 non-null int64\n",
      "payment_value                    104485 non-null float64\n",
      "customer_unique_id               104485 non-null object\n",
      "customer_zip_code_prefix         104485 non-null int64\n",
      "customer_city                    104485 non-null object\n",
      "customer_state                   104485 non-null object\n",
      "review_id                        104485 non-null object\n",
      "review_score                     104485 non-null int64\n",
      "review_comment_title             12151 non-null object\n",
      "review_comment_message           43623 non-null object\n",
      "review_creation_date             104485 non-null object\n",
      "review_answer_timestamp          104485 non-null object\n",
      "dtypes: float64(1), int64(4), object(17)\n",
      "memory usage: 18.3+ MB\n"
     ]
    }
   ],
   "source": [
    "inner_merge3.info()"
   ]
  },
  {
   "cell_type": "code",
   "execution_count": 6,
   "metadata": {},
   "outputs": [],
   "source": [
    "#fourth merge previous 4 tables with order items table \n",
    "\n",
    "inner_merge4 = pd.merge(inner_merge3, df3, on = 'order_id', how = 'inner')\n",
    "\n"
   ]
  },
  {
   "cell_type": "code",
   "execution_count": 14,
   "metadata": {},
   "outputs": [
    {
     "name": "stdout",
     "output_type": "stream",
     "text": [
      "<class 'pandas.core.frame.DataFrame'>\n",
      "Int64Index: 118315 entries, 0 to 118314\n",
      "Data columns (total 28 columns):\n",
      "order_id                         118315 non-null object\n",
      "customer_id                      118315 non-null object\n",
      "order_status                     118315 non-null object\n",
      "order_purchase_timestamp         118315 non-null object\n",
      "order_approved_at                118300 non-null object\n",
      "order_delivered_carrier_date     117061 non-null object\n",
      "order_delivered_customer_date    115727 non-null object\n",
      "order_estimated_delivery_date    118315 non-null object\n",
      "payment_sequential               118315 non-null int64\n",
      "payment_type                     118315 non-null object\n",
      "payment_installments             118315 non-null int64\n",
      "payment_value                    118315 non-null float64\n",
      "customer_unique_id               118315 non-null object\n",
      "customer_zip_code_prefix         118315 non-null int64\n",
      "customer_city                    118315 non-null object\n",
      "customer_state                   118315 non-null object\n",
      "review_id                        118315 non-null object\n",
      "review_score                     118315 non-null int64\n",
      "review_comment_title             14089 non-null object\n",
      "review_comment_message           50665 non-null object\n",
      "review_creation_date             118315 non-null object\n",
      "review_answer_timestamp          118315 non-null object\n",
      "order_item_id                    118315 non-null int64\n",
      "product_id                       118315 non-null object\n",
      "seller_id                        118315 non-null object\n",
      "shipping_limit_date              118315 non-null object\n",
      "price                            118315 non-null float64\n",
      "freight_value                    118315 non-null float64\n",
      "dtypes: float64(3), int64(5), object(20)\n",
      "memory usage: 26.2+ MB\n"
     ]
    }
   ],
   "source": [
    "inner_merge4.info()"
   ]
  },
  {
   "cell_type": "code",
   "execution_count": 7,
   "metadata": {},
   "outputs": [],
   "source": [
    "#fifth merge previous 5 tables with products table \n",
    "\n",
    "inner_merge5 = pd.merge(inner_merge4, df6, on = 'product_id', how = 'inner')\n",
    "\n"
   ]
  },
  {
   "cell_type": "code",
   "execution_count": 20,
   "metadata": {
    "scrolled": false
   },
   "outputs": [
    {
     "name": "stdout",
     "output_type": "stream",
     "text": [
      "<class 'pandas.core.frame.DataFrame'>\n",
      "Int64Index: 118315 entries, 0 to 118314\n",
      "Data columns (total 36 columns):\n",
      "order_id                         118315 non-null object\n",
      "customer_id                      118315 non-null object\n",
      "order_status                     118315 non-null object\n",
      "order_purchase_timestamp         118315 non-null object\n",
      "order_approved_at                118300 non-null object\n",
      "order_delivered_carrier_date     117061 non-null object\n",
      "order_delivered_customer_date    115727 non-null object\n",
      "order_estimated_delivery_date    118315 non-null object\n",
      "payment_sequential               118315 non-null int64\n",
      "payment_type                     118315 non-null object\n",
      "payment_installments             118315 non-null int64\n",
      "payment_value                    118315 non-null float64\n",
      "customer_unique_id               118315 non-null object\n",
      "customer_zip_code_prefix         118315 non-null int64\n",
      "customer_city                    118315 non-null object\n",
      "customer_state                   118315 non-null object\n",
      "review_id                        118315 non-null object\n",
      "review_score                     118315 non-null int64\n",
      "review_comment_title             14089 non-null object\n",
      "review_comment_message           50665 non-null object\n",
      "review_creation_date             118315 non-null object\n",
      "review_answer_timestamp          118315 non-null object\n",
      "order_item_id                    118315 non-null int64\n",
      "product_id                       118315 non-null object\n",
      "seller_id                        118315 non-null object\n",
      "shipping_limit_date              118315 non-null object\n",
      "price                            118315 non-null float64\n",
      "freight_value                    118315 non-null float64\n",
      "product_category_name            116606 non-null object\n",
      "product_name_lenght              116606 non-null float64\n",
      "product_description_lenght       116606 non-null float64\n",
      "product_photos_qty               116606 non-null float64\n",
      "product_weight_g                 118295 non-null float64\n",
      "product_length_cm                118295 non-null float64\n",
      "product_height_cm                118295 non-null float64\n",
      "product_width_cm                 118295 non-null float64\n",
      "dtypes: float64(10), int64(5), object(21)\n",
      "memory usage: 33.4+ MB\n"
     ]
    }
   ],
   "source": [
    "inner_merge5.info()"
   ]
  },
  {
   "cell_type": "code",
   "execution_count": 17,
   "metadata": {},
   "outputs": [
    {
     "data": {
      "text/plain": [
       "182649"
      ]
     },
     "execution_count": 17,
     "metadata": {},
     "output_type": "execute_result"
    }
   ],
   "source": [
    "inner_merge5.isnull().sum().sum()"
   ]
  },
  {
   "cell_type": "code",
   "execution_count": 18,
   "metadata": {},
   "outputs": [],
   "source": [
    "olist_data_merge = inner_merge5.dropna()"
   ]
  },
  {
   "cell_type": "code",
   "execution_count": 19,
   "metadata": {
    "scrolled": false
   },
   "outputs": [
    {
     "name": "stdout",
     "output_type": "stream",
     "text": [
      "<class 'pandas.core.frame.DataFrame'>\n",
      "Int64Index: 11751 entries, 6 to 118306\n",
      "Data columns (total 36 columns):\n",
      "order_id                         11751 non-null object\n",
      "customer_id                      11751 non-null object\n",
      "order_status                     11751 non-null object\n",
      "order_purchase_timestamp         11751 non-null object\n",
      "order_approved_at                11751 non-null object\n",
      "order_delivered_carrier_date     11751 non-null object\n",
      "order_delivered_customer_date    11751 non-null object\n",
      "order_estimated_delivery_date    11751 non-null object\n",
      "payment_sequential               11751 non-null int64\n",
      "payment_type                     11751 non-null object\n",
      "payment_installments             11751 non-null int64\n",
      "payment_value                    11751 non-null float64\n",
      "customer_unique_id               11751 non-null object\n",
      "customer_zip_code_prefix         11751 non-null int64\n",
      "customer_city                    11751 non-null object\n",
      "customer_state                   11751 non-null object\n",
      "review_id                        11751 non-null object\n",
      "review_score                     11751 non-null int64\n",
      "review_comment_title             11751 non-null object\n",
      "review_comment_message           11751 non-null object\n",
      "review_creation_date             11751 non-null object\n",
      "review_answer_timestamp          11751 non-null object\n",
      "order_item_id                    11751 non-null int64\n",
      "product_id                       11751 non-null object\n",
      "seller_id                        11751 non-null object\n",
      "shipping_limit_date              11751 non-null object\n",
      "price                            11751 non-null float64\n",
      "freight_value                    11751 non-null float64\n",
      "product_category_name            11751 non-null object\n",
      "product_name_lenght              11751 non-null float64\n",
      "product_description_lenght       11751 non-null float64\n",
      "product_photos_qty               11751 non-null float64\n",
      "product_weight_g                 11751 non-null float64\n",
      "product_length_cm                11751 non-null float64\n",
      "product_height_cm                11751 non-null float64\n",
      "product_width_cm                 11751 non-null float64\n",
      "dtypes: float64(10), int64(5), object(21)\n",
      "memory usage: 3.3+ MB\n"
     ]
    }
   ],
   "source": [
    "olist_data_merge.info()"
   ]
  },
  {
   "cell_type": "code",
   "execution_count": 8,
   "metadata": {},
   "outputs": [],
   "source": [
    "\n",
    "\n",
    "olist_data_info=inner_merge5[['customer_unique_id','order_purchase_timestamp','order_id','payment_value','payment_installments', 'payment_type', 'price', 'review_score', 'freight_value', 'product_weight_g']]"
   ]
  },
  {
   "cell_type": "code",
   "execution_count": 9,
   "metadata": {},
   "outputs": [
    {
     "name": "stdout",
     "output_type": "stream",
     "text": [
      "<class 'pandas.core.frame.DataFrame'>\n",
      "Int64Index: 118315 entries, 0 to 118314\n",
      "Data columns (total 10 columns):\n",
      "customer_unique_id          118315 non-null object\n",
      "order_purchase_timestamp    118315 non-null object\n",
      "order_id                    118315 non-null object\n",
      "payment_value               118315 non-null float64\n",
      "payment_installments        118315 non-null int64\n",
      "payment_type                118315 non-null object\n",
      "price                       118315 non-null float64\n",
      "review_score                118315 non-null int64\n",
      "freight_value               118315 non-null float64\n",
      "product_weight_g            118295 non-null float64\n",
      "dtypes: float64(4), int64(2), object(4)\n",
      "memory usage: 9.9+ MB\n"
     ]
    }
   ],
   "source": [
    "olist_data_info.info()"
   ]
  },
  {
   "cell_type": "code",
   "execution_count": 10,
   "metadata": {},
   "outputs": [
    {
     "data": {
      "text/plain": [
       "20"
      ]
     },
     "execution_count": 10,
     "metadata": {},
     "output_type": "execute_result"
    }
   ],
   "source": [
    "olist_data_info.isnull().sum().sum()"
   ]
  },
  {
   "cell_type": "code",
   "execution_count": 12,
   "metadata": {},
   "outputs": [],
   "source": [
    "#USE\n",
    "\n",
    "olist_df = olist_data_info.dropna()"
   ]
  },
  {
   "cell_type": "code",
   "execution_count": 15,
   "metadata": {
    "scrolled": true
   },
   "outputs": [
    {
     "name": "stdout",
     "output_type": "stream",
     "text": [
      "<class 'pandas.core.frame.DataFrame'>\n",
      "Int64Index: 118295 entries, 0 to 118314\n",
      "Data columns (total 10 columns):\n",
      "customer_unique_id          118295 non-null object\n",
      "order_purchase_timestamp    118295 non-null datetime64[ns]\n",
      "order_id                    118295 non-null object\n",
      "payment_value               118295 non-null float64\n",
      "payment_installments        118295 non-null int64\n",
      "payment_type                118295 non-null object\n",
      "price                       118295 non-null float64\n",
      "review_score                118295 non-null int64\n",
      "freight_value               118295 non-null float64\n",
      "product_weight_g            118295 non-null float64\n",
      "dtypes: datetime64[ns](1), float64(4), int64(2), object(3)\n",
      "memory usage: 9.9+ MB\n"
     ]
    }
   ],
   "source": [
    "olist_df.info()"
   ]
  },
  {
   "cell_type": "code",
   "execution_count": 14,
   "metadata": {
    "scrolled": false
   },
   "outputs": [
    {
     "name": "stderr",
     "output_type": "stream",
     "text": [
      "/Users/galvanize/miniconda3/lib/python3.7/site-packages/ipykernel_launcher.py:3: SettingWithCopyWarning: \n",
      "A value is trying to be set on a copy of a slice from a DataFrame.\n",
      "Try using .loc[row_indexer,col_indexer] = value instead\n",
      "\n",
      "See the caveats in the documentation: http://pandas.pydata.org/pandas-docs/stable/user_guide/indexing.html#returning-a-view-versus-a-copy\n",
      "  This is separate from the ipykernel package so we can avoid doing imports until\n",
      "/Users/galvanize/miniconda3/lib/python3.7/site-packages/ipykernel_launcher.py:4: SettingWithCopyWarning: \n",
      "A value is trying to be set on a copy of a slice from a DataFrame.\n",
      "Try using .loc[row_indexer,col_indexer] = value instead\n",
      "\n",
      "See the caveats in the documentation: http://pandas.pydata.org/pandas-docs/stable/user_guide/indexing.html#returning-a-view-versus-a-copy\n",
      "  after removing the cwd from sys.path.\n",
      "/Users/galvanize/miniconda3/lib/python3.7/site-packages/ipykernel_launcher.py:5: SettingWithCopyWarning: \n",
      "A value is trying to be set on a copy of a slice from a DataFrame.\n",
      "Try using .loc[row_indexer,col_indexer] = value instead\n",
      "\n",
      "See the caveats in the documentation: http://pandas.pydata.org/pandas-docs/stable/user_guide/indexing.html#returning-a-view-versus-a-copy\n",
      "  \"\"\"\n"
     ]
    }
   ],
   "source": [
    "#used to change date \n",
    "\n",
    "olist_df['order_purchase_timestamp'] = pd.to_datetime(olist_df['order_purchase_timestamp'])\n",
    "olist_df['order_purchase_timestamp'] = olist_df.order_purchase_timestamp.dt.date\n",
    "olist_df['order_purchase_timestamp'] = pd.to_datetime(olist_df['order_purchase_timestamp'])\n",
    "\n",
    "\n"
   ]
  },
  {
   "cell_type": "code",
   "execution_count": 38,
   "metadata": {},
   "outputs": [],
   "source": [
    "#new column\n",
    "\n",
    "olist_df['first_purchase'] = olist_df['order_purchase_timestamp']"
   ]
  },
  {
   "cell_type": "code",
   "execution_count": 42,
   "metadata": {
    "scrolled": true
   },
   "outputs": [
    {
     "name": "stdout",
     "output_type": "stream",
     "text": [
      "<class 'pandas.core.frame.DataFrame'>\n",
      "Int64Index: 118295 entries, 0 to 118314\n",
      "Data columns (total 11 columns):\n",
      "customer_unique_id          118295 non-null object\n",
      "order_purchase_timestamp    118295 non-null datetime64[ns]\n",
      "order_id                    118295 non-null object\n",
      "payment_value               118295 non-null float64\n",
      "payment_installments        118295 non-null int64\n",
      "payment_type                118295 non-null object\n",
      "price                       118295 non-null float64\n",
      "review_score                118295 non-null int64\n",
      "freight_value               118295 non-null float64\n",
      "product_weight_g            118295 non-null float64\n",
      "first_purchase              118295 non-null datetime64[ns]\n",
      "dtypes: datetime64[ns](2), float64(4), int64(2), object(3)\n",
      "memory usage: 10.8+ MB\n"
     ]
    }
   ],
   "source": [
    "olist_df.info()"
   ]
  },
  {
   "cell_type": "code",
   "execution_count": 40,
   "metadata": {},
   "outputs": [
    {
     "data": {
      "text/html": [
       "<div>\n",
       "<style scoped>\n",
       "    .dataframe tbody tr th:only-of-type {\n",
       "        vertical-align: middle;\n",
       "    }\n",
       "\n",
       "    .dataframe tbody tr th {\n",
       "        vertical-align: top;\n",
       "    }\n",
       "\n",
       "    .dataframe thead th {\n",
       "        text-align: right;\n",
       "    }\n",
       "</style>\n",
       "<table border=\"1\" class=\"dataframe\">\n",
       "  <thead>\n",
       "    <tr style=\"text-align: right;\">\n",
       "      <th></th>\n",
       "      <th>customer_unique_id</th>\n",
       "      <th>order_purchase_timestamp</th>\n",
       "      <th>order_id</th>\n",
       "      <th>payment_value</th>\n",
       "      <th>payment_installments</th>\n",
       "      <th>payment_type</th>\n",
       "      <th>price</th>\n",
       "      <th>review_score</th>\n",
       "      <th>freight_value</th>\n",
       "      <th>product_weight_g</th>\n",
       "      <th>first_purchase</th>\n",
       "    </tr>\n",
       "  </thead>\n",
       "  <tbody>\n",
       "    <tr>\n",
       "      <td>0</td>\n",
       "      <td>7c396fd4830fd04220f754e42b4e5bff</td>\n",
       "      <td>2017-10-02</td>\n",
       "      <td>e481f51cbdc54678b7cc49136f2d6af7</td>\n",
       "      <td>18.12</td>\n",
       "      <td>1</td>\n",
       "      <td>credit_card</td>\n",
       "      <td>29.99</td>\n",
       "      <td>4</td>\n",
       "      <td>8.72</td>\n",
       "      <td>500.0</td>\n",
       "      <td>2017-10-02</td>\n",
       "    </tr>\n",
       "    <tr>\n",
       "      <td>1</td>\n",
       "      <td>7c396fd4830fd04220f754e42b4e5bff</td>\n",
       "      <td>2017-10-02</td>\n",
       "      <td>e481f51cbdc54678b7cc49136f2d6af7</td>\n",
       "      <td>2.00</td>\n",
       "      <td>1</td>\n",
       "      <td>voucher</td>\n",
       "      <td>29.99</td>\n",
       "      <td>4</td>\n",
       "      <td>8.72</td>\n",
       "      <td>500.0</td>\n",
       "      <td>2017-10-02</td>\n",
       "    </tr>\n",
       "    <tr>\n",
       "      <td>2</td>\n",
       "      <td>7c396fd4830fd04220f754e42b4e5bff</td>\n",
       "      <td>2017-10-02</td>\n",
       "      <td>e481f51cbdc54678b7cc49136f2d6af7</td>\n",
       "      <td>18.59</td>\n",
       "      <td>1</td>\n",
       "      <td>voucher</td>\n",
       "      <td>29.99</td>\n",
       "      <td>4</td>\n",
       "      <td>8.72</td>\n",
       "      <td>500.0</td>\n",
       "      <td>2017-10-02</td>\n",
       "    </tr>\n",
       "    <tr>\n",
       "      <td>3</td>\n",
       "      <td>3a51803cc0d012c3b5dc8b7528cb05f7</td>\n",
       "      <td>2017-08-15</td>\n",
       "      <td>128e10d95713541c87cd1a2e48201934</td>\n",
       "      <td>37.77</td>\n",
       "      <td>3</td>\n",
       "      <td>credit_card</td>\n",
       "      <td>29.99</td>\n",
       "      <td>4</td>\n",
       "      <td>7.78</td>\n",
       "      <td>500.0</td>\n",
       "      <td>2017-08-15</td>\n",
       "    </tr>\n",
       "    <tr>\n",
       "      <td>4</td>\n",
       "      <td>ef0996a1a279c26e7ecbd737be23d235</td>\n",
       "      <td>2017-08-02</td>\n",
       "      <td>0e7e841ddf8f8f2de2bad69267ecfbcf</td>\n",
       "      <td>37.77</td>\n",
       "      <td>1</td>\n",
       "      <td>credit_card</td>\n",
       "      <td>29.99</td>\n",
       "      <td>5</td>\n",
       "      <td>7.78</td>\n",
       "      <td>500.0</td>\n",
       "      <td>2017-08-02</td>\n",
       "    </tr>\n",
       "  </tbody>\n",
       "</table>\n",
       "</div>"
      ],
      "text/plain": [
       "                 customer_unique_id order_purchase_timestamp  \\\n",
       "0  7c396fd4830fd04220f754e42b4e5bff               2017-10-02   \n",
       "1  7c396fd4830fd04220f754e42b4e5bff               2017-10-02   \n",
       "2  7c396fd4830fd04220f754e42b4e5bff               2017-10-02   \n",
       "3  3a51803cc0d012c3b5dc8b7528cb05f7               2017-08-15   \n",
       "4  ef0996a1a279c26e7ecbd737be23d235               2017-08-02   \n",
       "\n",
       "                           order_id  payment_value  payment_installments  \\\n",
       "0  e481f51cbdc54678b7cc49136f2d6af7          18.12                     1   \n",
       "1  e481f51cbdc54678b7cc49136f2d6af7           2.00                     1   \n",
       "2  e481f51cbdc54678b7cc49136f2d6af7          18.59                     1   \n",
       "3  128e10d95713541c87cd1a2e48201934          37.77                     3   \n",
       "4  0e7e841ddf8f8f2de2bad69267ecfbcf          37.77                     1   \n",
       "\n",
       "  payment_type  price  review_score  freight_value  product_weight_g  \\\n",
       "0  credit_card  29.99             4           8.72             500.0   \n",
       "1      voucher  29.99             4           8.72             500.0   \n",
       "2      voucher  29.99             4           8.72             500.0   \n",
       "3  credit_card  29.99             4           7.78             500.0   \n",
       "4  credit_card  29.99             5           7.78             500.0   \n",
       "\n",
       "  first_purchase  \n",
       "0     2017-10-02  \n",
       "1     2017-10-02  \n",
       "2     2017-10-02  \n",
       "3     2017-08-15  \n",
       "4     2017-08-02  "
      ]
     },
     "execution_count": 40,
     "metadata": {},
     "output_type": "execute_result"
    }
   ],
   "source": [
    "olist_df.head()"
   ]
  },
  {
   "cell_type": "code",
   "execution_count": 41,
   "metadata": {
    "scrolled": true
   },
   "outputs": [
    {
     "data": {
      "text/plain": [
       "Timestamp('2016-09-04 00:00:00')"
      ]
     },
     "execution_count": 41,
     "metadata": {},
     "output_type": "execute_result"
    }
   ],
   "source": [
    "olist_df['first_purchase'].min()"
   ]
  },
  {
   "cell_type": "code",
   "execution_count": null,
   "metadata": {},
   "outputs": [],
   "source": []
  },
  {
   "cell_type": "code",
   "execution_count": null,
   "metadata": {},
   "outputs": [],
   "source": []
  },
  {
   "cell_type": "code",
   "execution_count": null,
   "metadata": {},
   "outputs": [],
   "source": []
  },
  {
   "cell_type": "code",
   "execution_count": null,
   "metadata": {},
   "outputs": [],
   "source": [
    "----------"
   ]
  },
  {
   "cell_type": "code",
   "execution_count": 17,
   "metadata": {},
   "outputs": [],
   "source": [
    "##### #working on for capostone 3, merged orders, order_payments, order_items, products tables \n",
    "\n",
    "order_payments_products_merge = pd.merge(inner_merge2, df6, on = 'product_id', how = 'inner')"
   ]
  },
  {
   "cell_type": "code",
   "execution_count": 18,
   "metadata": {
    "scrolled": false
   },
   "outputs": [
    {
     "name": "stdout",
     "output_type": "stream",
     "text": [
      "<class 'pandas.core.frame.DataFrame'>\n",
      "Int64Index: 117601 entries, 0 to 117600\n",
      "Data columns (total 26 columns):\n",
      "order_id                         117601 non-null object\n",
      "customer_id                      117601 non-null object\n",
      "order_status                     117601 non-null object\n",
      "order_purchase_timestamp         117601 non-null object\n",
      "order_approved_at                117586 non-null object\n",
      "order_delivered_carrier_date     116356 non-null object\n",
      "order_delivered_customer_date    115034 non-null object\n",
      "order_estimated_delivery_date    117601 non-null object\n",
      "payment_sequential               117601 non-null int64\n",
      "payment_type                     117601 non-null object\n",
      "payment_installments             117601 non-null int64\n",
      "payment_value                    117601 non-null float64\n",
      "order_item_id                    117601 non-null int64\n",
      "product_id                       117601 non-null object\n",
      "seller_id                        117601 non-null object\n",
      "shipping_limit_date              117601 non-null object\n",
      "price                            117601 non-null float64\n",
      "freight_value                    117601 non-null float64\n",
      "product_category_name            115903 non-null object\n",
      "product_name_lenght              115903 non-null float64\n",
      "product_description_lenght       115903 non-null float64\n",
      "product_photos_qty               115903 non-null float64\n",
      "product_weight_g                 117581 non-null float64\n",
      "product_length_cm                117581 non-null float64\n",
      "product_height_cm                117581 non-null float64\n",
      "product_width_cm                 117581 non-null float64\n",
      "dtypes: float64(10), int64(3), object(13)\n",
      "memory usage: 24.2+ MB\n"
     ]
    }
   ],
   "source": [
    "order_payments_products_merge.info()"
   ]
  },
  {
   "cell_type": "code",
   "execution_count": 19,
   "metadata": {
    "scrolled": true
   },
   "outputs": [
    {
     "data": {
      "text/html": [
       "<div>\n",
       "<style scoped>\n",
       "    .dataframe tbody tr th:only-of-type {\n",
       "        vertical-align: middle;\n",
       "    }\n",
       "\n",
       "    .dataframe tbody tr th {\n",
       "        vertical-align: top;\n",
       "    }\n",
       "\n",
       "    .dataframe thead th {\n",
       "        text-align: right;\n",
       "    }\n",
       "</style>\n",
       "<table border=\"1\" class=\"dataframe\">\n",
       "  <thead>\n",
       "    <tr style=\"text-align: right;\">\n",
       "      <th></th>\n",
       "      <th>order_id</th>\n",
       "      <th>customer_id</th>\n",
       "      <th>order_status</th>\n",
       "      <th>order_purchase_timestamp</th>\n",
       "      <th>order_approved_at</th>\n",
       "      <th>order_delivered_carrier_date</th>\n",
       "      <th>order_delivered_customer_date</th>\n",
       "      <th>order_estimated_delivery_date</th>\n",
       "      <th>payment_sequential</th>\n",
       "      <th>payment_type</th>\n",
       "      <th>...</th>\n",
       "      <th>price</th>\n",
       "      <th>freight_value</th>\n",
       "      <th>product_category_name</th>\n",
       "      <th>product_name_lenght</th>\n",
       "      <th>product_description_lenght</th>\n",
       "      <th>product_photos_qty</th>\n",
       "      <th>product_weight_g</th>\n",
       "      <th>product_length_cm</th>\n",
       "      <th>product_height_cm</th>\n",
       "      <th>product_width_cm</th>\n",
       "    </tr>\n",
       "  </thead>\n",
       "  <tbody>\n",
       "    <tr>\n",
       "      <td>0</td>\n",
       "      <td>e481f51cbdc54678b7cc49136f2d6af7</td>\n",
       "      <td>9ef432eb6251297304e76186b10a928d</td>\n",
       "      <td>delivered</td>\n",
       "      <td>2017-10-02 10:56:33</td>\n",
       "      <td>2017-10-02 11:07:15</td>\n",
       "      <td>2017-10-04 19:55:00</td>\n",
       "      <td>2017-10-10 21:25:13</td>\n",
       "      <td>2017-10-18 00:00:00</td>\n",
       "      <td>1</td>\n",
       "      <td>credit_card</td>\n",
       "      <td>...</td>\n",
       "      <td>29.99</td>\n",
       "      <td>8.72</td>\n",
       "      <td>utilidades_domesticas</td>\n",
       "      <td>40.0</td>\n",
       "      <td>268.0</td>\n",
       "      <td>4.0</td>\n",
       "      <td>500.0</td>\n",
       "      <td>19.0</td>\n",
       "      <td>8.0</td>\n",
       "      <td>13.0</td>\n",
       "    </tr>\n",
       "    <tr>\n",
       "      <td>1</td>\n",
       "      <td>e481f51cbdc54678b7cc49136f2d6af7</td>\n",
       "      <td>9ef432eb6251297304e76186b10a928d</td>\n",
       "      <td>delivered</td>\n",
       "      <td>2017-10-02 10:56:33</td>\n",
       "      <td>2017-10-02 11:07:15</td>\n",
       "      <td>2017-10-04 19:55:00</td>\n",
       "      <td>2017-10-10 21:25:13</td>\n",
       "      <td>2017-10-18 00:00:00</td>\n",
       "      <td>3</td>\n",
       "      <td>voucher</td>\n",
       "      <td>...</td>\n",
       "      <td>29.99</td>\n",
       "      <td>8.72</td>\n",
       "      <td>utilidades_domesticas</td>\n",
       "      <td>40.0</td>\n",
       "      <td>268.0</td>\n",
       "      <td>4.0</td>\n",
       "      <td>500.0</td>\n",
       "      <td>19.0</td>\n",
       "      <td>8.0</td>\n",
       "      <td>13.0</td>\n",
       "    </tr>\n",
       "    <tr>\n",
       "      <td>2</td>\n",
       "      <td>e481f51cbdc54678b7cc49136f2d6af7</td>\n",
       "      <td>9ef432eb6251297304e76186b10a928d</td>\n",
       "      <td>delivered</td>\n",
       "      <td>2017-10-02 10:56:33</td>\n",
       "      <td>2017-10-02 11:07:15</td>\n",
       "      <td>2017-10-04 19:55:00</td>\n",
       "      <td>2017-10-10 21:25:13</td>\n",
       "      <td>2017-10-18 00:00:00</td>\n",
       "      <td>2</td>\n",
       "      <td>voucher</td>\n",
       "      <td>...</td>\n",
       "      <td>29.99</td>\n",
       "      <td>8.72</td>\n",
       "      <td>utilidades_domesticas</td>\n",
       "      <td>40.0</td>\n",
       "      <td>268.0</td>\n",
       "      <td>4.0</td>\n",
       "      <td>500.0</td>\n",
       "      <td>19.0</td>\n",
       "      <td>8.0</td>\n",
       "      <td>13.0</td>\n",
       "    </tr>\n",
       "    <tr>\n",
       "      <td>3</td>\n",
       "      <td>128e10d95713541c87cd1a2e48201934</td>\n",
       "      <td>a20e8105f23924cd00833fd87daa0831</td>\n",
       "      <td>delivered</td>\n",
       "      <td>2017-08-15 18:29:31</td>\n",
       "      <td>2017-08-15 20:05:16</td>\n",
       "      <td>2017-08-17 15:28:33</td>\n",
       "      <td>2017-08-18 14:44:43</td>\n",
       "      <td>2017-08-28 00:00:00</td>\n",
       "      <td>1</td>\n",
       "      <td>credit_card</td>\n",
       "      <td>...</td>\n",
       "      <td>29.99</td>\n",
       "      <td>7.78</td>\n",
       "      <td>utilidades_domesticas</td>\n",
       "      <td>40.0</td>\n",
       "      <td>268.0</td>\n",
       "      <td>4.0</td>\n",
       "      <td>500.0</td>\n",
       "      <td>19.0</td>\n",
       "      <td>8.0</td>\n",
       "      <td>13.0</td>\n",
       "    </tr>\n",
       "    <tr>\n",
       "      <td>4</td>\n",
       "      <td>0e7e841ddf8f8f2de2bad69267ecfbcf</td>\n",
       "      <td>26c7ac168e1433912a51b924fbd34d34</td>\n",
       "      <td>delivered</td>\n",
       "      <td>2017-08-02 18:24:47</td>\n",
       "      <td>2017-08-02 18:43:15</td>\n",
       "      <td>2017-08-04 17:35:43</td>\n",
       "      <td>2017-08-07 18:30:01</td>\n",
       "      <td>2017-08-15 00:00:00</td>\n",
       "      <td>1</td>\n",
       "      <td>credit_card</td>\n",
       "      <td>...</td>\n",
       "      <td>29.99</td>\n",
       "      <td>7.78</td>\n",
       "      <td>utilidades_domesticas</td>\n",
       "      <td>40.0</td>\n",
       "      <td>268.0</td>\n",
       "      <td>4.0</td>\n",
       "      <td>500.0</td>\n",
       "      <td>19.0</td>\n",
       "      <td>8.0</td>\n",
       "      <td>13.0</td>\n",
       "    </tr>\n",
       "  </tbody>\n",
       "</table>\n",
       "<p>5 rows × 26 columns</p>\n",
       "</div>"
      ],
      "text/plain": [
       "                           order_id                       customer_id  \\\n",
       "0  e481f51cbdc54678b7cc49136f2d6af7  9ef432eb6251297304e76186b10a928d   \n",
       "1  e481f51cbdc54678b7cc49136f2d6af7  9ef432eb6251297304e76186b10a928d   \n",
       "2  e481f51cbdc54678b7cc49136f2d6af7  9ef432eb6251297304e76186b10a928d   \n",
       "3  128e10d95713541c87cd1a2e48201934  a20e8105f23924cd00833fd87daa0831   \n",
       "4  0e7e841ddf8f8f2de2bad69267ecfbcf  26c7ac168e1433912a51b924fbd34d34   \n",
       "\n",
       "  order_status order_purchase_timestamp    order_approved_at  \\\n",
       "0    delivered      2017-10-02 10:56:33  2017-10-02 11:07:15   \n",
       "1    delivered      2017-10-02 10:56:33  2017-10-02 11:07:15   \n",
       "2    delivered      2017-10-02 10:56:33  2017-10-02 11:07:15   \n",
       "3    delivered      2017-08-15 18:29:31  2017-08-15 20:05:16   \n",
       "4    delivered      2017-08-02 18:24:47  2017-08-02 18:43:15   \n",
       "\n",
       "  order_delivered_carrier_date order_delivered_customer_date  \\\n",
       "0          2017-10-04 19:55:00           2017-10-10 21:25:13   \n",
       "1          2017-10-04 19:55:00           2017-10-10 21:25:13   \n",
       "2          2017-10-04 19:55:00           2017-10-10 21:25:13   \n",
       "3          2017-08-17 15:28:33           2017-08-18 14:44:43   \n",
       "4          2017-08-04 17:35:43           2017-08-07 18:30:01   \n",
       "\n",
       "  order_estimated_delivery_date  payment_sequential payment_type  ...  price  \\\n",
       "0           2017-10-18 00:00:00                   1  credit_card  ...  29.99   \n",
       "1           2017-10-18 00:00:00                   3      voucher  ...  29.99   \n",
       "2           2017-10-18 00:00:00                   2      voucher  ...  29.99   \n",
       "3           2017-08-28 00:00:00                   1  credit_card  ...  29.99   \n",
       "4           2017-08-15 00:00:00                   1  credit_card  ...  29.99   \n",
       "\n",
       "   freight_value  product_category_name product_name_lenght  \\\n",
       "0           8.72  utilidades_domesticas                40.0   \n",
       "1           8.72  utilidades_domesticas                40.0   \n",
       "2           8.72  utilidades_domesticas                40.0   \n",
       "3           7.78  utilidades_domesticas                40.0   \n",
       "4           7.78  utilidades_domesticas                40.0   \n",
       "\n",
       "  product_description_lenght product_photos_qty  product_weight_g  \\\n",
       "0                      268.0                4.0             500.0   \n",
       "1                      268.0                4.0             500.0   \n",
       "2                      268.0                4.0             500.0   \n",
       "3                      268.0                4.0             500.0   \n",
       "4                      268.0                4.0             500.0   \n",
       "\n",
       "   product_length_cm product_height_cm  product_width_cm  \n",
       "0               19.0               8.0              13.0  \n",
       "1               19.0               8.0              13.0  \n",
       "2               19.0               8.0              13.0  \n",
       "3               19.0               8.0              13.0  \n",
       "4               19.0               8.0              13.0  \n",
       "\n",
       "[5 rows x 26 columns]"
      ]
     },
     "execution_count": 19,
     "metadata": {},
     "output_type": "execute_result"
    }
   ],
   "source": [
    "order_payments_products_merge.head()"
   ]
  },
  {
   "cell_type": "code",
   "execution_count": 20,
   "metadata": {},
   "outputs": [
    {
     "data": {
      "text/plain": [
       "10699"
      ]
     },
     "execution_count": 20,
     "metadata": {},
     "output_type": "execute_result"
    }
   ],
   "source": [
    "order_payments_products_merge.isnull().sum().sum()"
   ]
  },
  {
   "cell_type": "code",
   "execution_count": 21,
   "metadata": {},
   "outputs": [],
   "source": [
    "olist_data = order_payments_products_merge.dropna()"
   ]
  },
  {
   "cell_type": "code",
   "execution_count": 23,
   "metadata": {},
   "outputs": [
    {
     "name": "stderr",
     "output_type": "stream",
     "text": [
      "/Users/galvanize/miniconda3/lib/python3.7/site-packages/ipykernel_launcher.py:3: SettingWithCopyWarning: \n",
      "A value is trying to be set on a copy of a slice from a DataFrame.\n",
      "Try using .loc[row_indexer,col_indexer] = value instead\n",
      "\n",
      "See the caveats in the documentation: http://pandas.pydata.org/pandas-docs/stable/user_guide/indexing.html#returning-a-view-versus-a-copy\n",
      "  This is separate from the ipykernel package so we can avoid doing imports until\n",
      "/Users/galvanize/miniconda3/lib/python3.7/site-packages/ipykernel_launcher.py:4: SettingWithCopyWarning: \n",
      "A value is trying to be set on a copy of a slice from a DataFrame.\n",
      "Try using .loc[row_indexer,col_indexer] = value instead\n",
      "\n",
      "See the caveats in the documentation: http://pandas.pydata.org/pandas-docs/stable/user_guide/indexing.html#returning-a-view-versus-a-copy\n",
      "  after removing the cwd from sys.path.\n",
      "/Users/galvanize/miniconda3/lib/python3.7/site-packages/ipykernel_launcher.py:5: SettingWithCopyWarning: \n",
      "A value is trying to be set on a copy of a slice from a DataFrame.\n",
      "Try using .loc[row_indexer,col_indexer] = value instead\n",
      "\n",
      "See the caveats in the documentation: http://pandas.pydata.org/pandas-docs/stable/user_guide/indexing.html#returning-a-view-versus-a-copy\n",
      "  \"\"\"\n"
     ]
    }
   ],
   "source": [
    "#used to change date to dt\n",
    "\n",
    "olist_data['order_purchase_timestamp'] = pd.to_datetime(olist_data['order_purchase_timestamp'])\n",
    "olist_data['order_purchase_timestamp'] = olist_data.order_purchase_timestamp.dt.date\n",
    "olist_data['order_purchase_timestamp'] = pd.to_datetime(olist_data['order_purchase_timestamp'])\n",
    "\n"
   ]
  },
  {
   "cell_type": "code",
   "execution_count": 26,
   "metadata": {
    "scrolled": false
   },
   "outputs": [
    {
     "name": "stdout",
     "output_type": "stream",
     "text": [
      "<class 'pandas.core.frame.DataFrame'>\n",
      "Int64Index: 113390 entries, 0 to 117600\n",
      "Data columns (total 27 columns):\n",
      "order_id                         113390 non-null object\n",
      "customer_id                      113390 non-null object\n",
      "order_status                     113390 non-null object\n",
      "order_purchase_timestamp         113390 non-null datetime64[ns]\n",
      "order_approved_at                113390 non-null object\n",
      "order_delivered_carrier_date     113390 non-null object\n",
      "order_delivered_customer_date    113390 non-null object\n",
      "order_estimated_delivery_date    113390 non-null object\n",
      "payment_sequential               113390 non-null int64\n",
      "payment_type                     113390 non-null object\n",
      "payment_installments             113390 non-null int64\n",
      "payment_value                    113390 non-null float64\n",
      "order_item_id                    113390 non-null int64\n",
      "product_id                       113390 non-null object\n",
      "seller_id                        113390 non-null object\n",
      "shipping_limit_date              113390 non-null object\n",
      "price                            113390 non-null float64\n",
      "freight_value                    113390 non-null float64\n",
      "product_category_name            113390 non-null object\n",
      "product_name_lenght              113390 non-null float64\n",
      "product_description_lenght       113390 non-null float64\n",
      "product_photos_qty               113390 non-null float64\n",
      "product_weight_g                 113390 non-null float64\n",
      "product_length_cm                113390 non-null float64\n",
      "product_height_cm                113390 non-null float64\n",
      "product_width_cm                 113390 non-null float64\n",
      "total_payment                    113390 non-null float64\n",
      "dtypes: datetime64[ns](1), float64(11), int64(3), object(12)\n",
      "memory usage: 24.2+ MB\n"
     ]
    }
   ],
   "source": [
    "olist_data.info()"
   ]
  },
  {
   "cell_type": "code",
   "execution_count": 25,
   "metadata": {
    "scrolled": true
   },
   "outputs": [
    {
     "name": "stderr",
     "output_type": "stream",
     "text": [
      "/Users/galvanize/miniconda3/lib/python3.7/site-packages/ipykernel_launcher.py:2: SettingWithCopyWarning: \n",
      "A value is trying to be set on a copy of a slice from a DataFrame.\n",
      "Try using .loc[row_indexer,col_indexer] = value instead\n",
      "\n",
      "See the caveats in the documentation: http://pandas.pydata.org/pandas-docs/stable/user_guide/indexing.html#returning-a-view-versus-a-copy\n",
      "  \n"
     ]
    }
   ],
   "source": [
    "#Calulate total purchase\n",
    "olist_data['total_payment'] = olist_data['payment_value'] * olist_data['payment_installments']"
   ]
  },
  {
   "cell_type": "markdown",
   "metadata": {},
   "source": [
    "# question below \n"
   ]
  },
  {
   "cell_type": "code",
   "execution_count": 27,
   "metadata": {},
   "outputs": [],
   "source": [
    "#*****question on how to have first 6 months data \n",
    "\n",
    "\n",
    "#USE, cltv_data gives correct days subtracted \n",
    "\n",
    "cltv_data = olist_data.groupby('customer_id').agg({'order_purchase_timestamp': lambda y: (olist_data['order_purchase_timestamp'].min().date() + 180).days,\n",
    "                                        'order_id': lambda num: len(num),\n",
    "                                        'payment_value': lambda quant: quant.sum(),\n",
    "                                        'total_payment': lambda price: price.sum()})"
   ]
  },
  {
   "cell_type": "code",
   "execution_count": null,
   "metadata": {},
   "outputs": [],
   "source": []
  },
  {
   "cell_type": "code",
   "execution_count": null,
   "metadata": {},
   "outputs": [],
   "source": []
  },
  {
   "cell_type": "code",
   "execution_count": 43,
   "metadata": {},
   "outputs": [],
   "source": [
    "#test\n",
    " \n",
    "\n",
    "cltv_data_test = olist_data.groupby('customer_id').agg({'order_purchase_timestamp': lambda y: (olist_data['order_purchase_timestamp'].max().date() - y.max().date()).days,\n",
    "                                        'order_id': lambda num: len(num),\n",
    "                                        'price': lambda var: len(var),\n",
    "                                        'payment_value': lambda quant: quant.sum(),\n",
    "                                        'total_payment': lambda price: price.sum()})"
   ]
  },
  {
   "cell_type": "code",
   "execution_count": 42,
   "metadata": {},
   "outputs": [
    {
     "data": {
      "text/html": [
       "<div>\n",
       "<style scoped>\n",
       "    .dataframe tbody tr th:only-of-type {\n",
       "        vertical-align: middle;\n",
       "    }\n",
       "\n",
       "    .dataframe tbody tr th {\n",
       "        vertical-align: top;\n",
       "    }\n",
       "\n",
       "    .dataframe thead th {\n",
       "        text-align: right;\n",
       "    }\n",
       "</style>\n",
       "<table border=\"1\" class=\"dataframe\">\n",
       "  <thead>\n",
       "    <tr style=\"text-align: right;\">\n",
       "      <th></th>\n",
       "      <th>order_purchase_timestamp</th>\n",
       "      <th>order_id</th>\n",
       "      <th>payment_installments</th>\n",
       "      <th>payment_value</th>\n",
       "      <th>total_payment</th>\n",
       "    </tr>\n",
       "    <tr>\n",
       "      <th>customer_id</th>\n",
       "      <th></th>\n",
       "      <th></th>\n",
       "      <th></th>\n",
       "      <th></th>\n",
       "      <th></th>\n",
       "    </tr>\n",
       "  </thead>\n",
       "  <tbody>\n",
       "    <tr>\n",
       "      <td>fffcb937e9dd47a13f05ecb8290f4d3e</td>\n",
       "      <td>165</td>\n",
       "      <td>1</td>\n",
       "      <td>1</td>\n",
       "      <td>91.91</td>\n",
       "      <td>551.46</td>\n",
       "    </tr>\n",
       "    <tr>\n",
       "      <td>fffecc9f79fd8c764f843e9951b11341</td>\n",
       "      <td>153</td>\n",
       "      <td>3</td>\n",
       "      <td>3</td>\n",
       "      <td>81.36</td>\n",
       "      <td>81.36</td>\n",
       "    </tr>\n",
       "    <tr>\n",
       "      <td>fffeda5b6d849fbd39689bb92087f431</td>\n",
       "      <td>99</td>\n",
       "      <td>1</td>\n",
       "      <td>1</td>\n",
       "      <td>63.13</td>\n",
       "      <td>189.39</td>\n",
       "    </tr>\n",
       "    <tr>\n",
       "      <td>ffff42319e9b2d713724ae527742af25</td>\n",
       "      <td>77</td>\n",
       "      <td>1</td>\n",
       "      <td>1</td>\n",
       "      <td>214.13</td>\n",
       "      <td>428.26</td>\n",
       "    </tr>\n",
       "    <tr>\n",
       "      <td>ffffa3172527f765de70084a7e53aae8</td>\n",
       "      <td>361</td>\n",
       "      <td>2</td>\n",
       "      <td>2</td>\n",
       "      <td>91.00</td>\n",
       "      <td>364.00</td>\n",
       "    </tr>\n",
       "  </tbody>\n",
       "</table>\n",
       "</div>"
      ],
      "text/plain": [
       "                                  order_purchase_timestamp  order_id  \\\n",
       "customer_id                                                            \n",
       "fffcb937e9dd47a13f05ecb8290f4d3e                       165         1   \n",
       "fffecc9f79fd8c764f843e9951b11341                       153         3   \n",
       "fffeda5b6d849fbd39689bb92087f431                        99         1   \n",
       "ffff42319e9b2d713724ae527742af25                        77         1   \n",
       "ffffa3172527f765de70084a7e53aae8                       361         2   \n",
       "\n",
       "                                  payment_installments  payment_value  \\\n",
       "customer_id                                                             \n",
       "fffcb937e9dd47a13f05ecb8290f4d3e                     1          91.91   \n",
       "fffecc9f79fd8c764f843e9951b11341                     3          81.36   \n",
       "fffeda5b6d849fbd39689bb92087f431                     1          63.13   \n",
       "ffff42319e9b2d713724ae527742af25                     1         214.13   \n",
       "ffffa3172527f765de70084a7e53aae8                     2          91.00   \n",
       "\n",
       "                                  total_payment  \n",
       "customer_id                                      \n",
       "fffcb937e9dd47a13f05ecb8290f4d3e         551.46  \n",
       "fffecc9f79fd8c764f843e9951b11341          81.36  \n",
       "fffeda5b6d849fbd39689bb92087f431         189.39  \n",
       "ffff42319e9b2d713724ae527742af25         428.26  \n",
       "ffffa3172527f765de70084a7e53aae8         364.00  "
      ]
     },
     "execution_count": 42,
     "metadata": {},
     "output_type": "execute_result"
    }
   ],
   "source": [
    "cltv_data_test.tail()"
   ]
  },
  {
   "cell_type": "code",
   "execution_count": 38,
   "metadata": {},
   "outputs": [],
   "source": [
    "#test\n",
    "\n",
    "variables_data=cltv_data_test[['order_purchase_timestamp','order_id','payment_value','total_payment']]"
   ]
  },
  {
   "cell_type": "code",
   "execution_count": 39,
   "metadata": {},
   "outputs": [
    {
     "data": {
      "text/html": [
       "<div>\n",
       "<style scoped>\n",
       "    .dataframe tbody tr th:only-of-type {\n",
       "        vertical-align: middle;\n",
       "    }\n",
       "\n",
       "    .dataframe tbody tr th {\n",
       "        vertical-align: top;\n",
       "    }\n",
       "\n",
       "    .dataframe thead th {\n",
       "        text-align: right;\n",
       "    }\n",
       "</style>\n",
       "<table border=\"1\" class=\"dataframe\">\n",
       "  <thead>\n",
       "    <tr style=\"text-align: right;\">\n",
       "      <th></th>\n",
       "      <th>order_purchase_timestamp</th>\n",
       "      <th>order_id</th>\n",
       "      <th>payment_value</th>\n",
       "      <th>total_payment</th>\n",
       "    </tr>\n",
       "    <tr>\n",
       "      <th>customer_id</th>\n",
       "      <th></th>\n",
       "      <th></th>\n",
       "      <th></th>\n",
       "      <th></th>\n",
       "    </tr>\n",
       "  </thead>\n",
       "  <tbody>\n",
       "    <tr>\n",
       "      <td>00012a2ce6f8dcda20d059ce98491703</td>\n",
       "      <td>288</td>\n",
       "      <td>1</td>\n",
       "      <td>114.74</td>\n",
       "      <td>917.92</td>\n",
       "    </tr>\n",
       "    <tr>\n",
       "      <td>000161a058600d5901f007fab4c27140</td>\n",
       "      <td>409</td>\n",
       "      <td>1</td>\n",
       "      <td>67.41</td>\n",
       "      <td>337.05</td>\n",
       "    </tr>\n",
       "    <tr>\n",
       "      <td>0001fd6190edaaf884bcaf3d49edf079</td>\n",
       "      <td>547</td>\n",
       "      <td>1</td>\n",
       "      <td>195.42</td>\n",
       "      <td>1954.20</td>\n",
       "    </tr>\n",
       "    <tr>\n",
       "      <td>0002414f95344307404f0ace7a26f1d5</td>\n",
       "      <td>378</td>\n",
       "      <td>1</td>\n",
       "      <td>179.35</td>\n",
       "      <td>179.35</td>\n",
       "    </tr>\n",
       "    <tr>\n",
       "      <td>000379cdec625522490c315e70c7a9fb</td>\n",
       "      <td>149</td>\n",
       "      <td>1</td>\n",
       "      <td>107.01</td>\n",
       "      <td>107.01</td>\n",
       "    </tr>\n",
       "  </tbody>\n",
       "</table>\n",
       "</div>"
      ],
      "text/plain": [
       "                                  order_purchase_timestamp  order_id  \\\n",
       "customer_id                                                            \n",
       "00012a2ce6f8dcda20d059ce98491703                       288         1   \n",
       "000161a058600d5901f007fab4c27140                       409         1   \n",
       "0001fd6190edaaf884bcaf3d49edf079                       547         1   \n",
       "0002414f95344307404f0ace7a26f1d5                       378         1   \n",
       "000379cdec625522490c315e70c7a9fb                       149         1   \n",
       "\n",
       "                                  payment_value  total_payment  \n",
       "customer_id                                                     \n",
       "00012a2ce6f8dcda20d059ce98491703         114.74         917.92  \n",
       "000161a058600d5901f007fab4c27140          67.41         337.05  \n",
       "0001fd6190edaaf884bcaf3d49edf079         195.42        1954.20  \n",
       "0002414f95344307404f0ace7a26f1d5         179.35         179.35  \n",
       "000379cdec625522490c315e70c7a9fb         107.01         107.01  "
      ]
     },
     "execution_count": 39,
     "metadata": {},
     "output_type": "execute_result"
    }
   ],
   "source": [
    "variables_data.head()"
   ]
  },
  {
   "cell_type": "code",
   "execution_count": 29,
   "metadata": {
    "scrolled": false
   },
   "outputs": [
    {
     "data": {
      "text/html": [
       "<div>\n",
       "<style scoped>\n",
       "    .dataframe tbody tr th:only-of-type {\n",
       "        vertical-align: middle;\n",
       "    }\n",
       "\n",
       "    .dataframe tbody tr th {\n",
       "        vertical-align: top;\n",
       "    }\n",
       "\n",
       "    .dataframe thead th {\n",
       "        text-align: right;\n",
       "    }\n",
       "</style>\n",
       "<table border=\"1\" class=\"dataframe\">\n",
       "  <thead>\n",
       "    <tr style=\"text-align: right;\">\n",
       "      <th></th>\n",
       "      <th>order_purchase_timestamp</th>\n",
       "      <th>order_id</th>\n",
       "      <th>payment_value</th>\n",
       "      <th>total_payment</th>\n",
       "    </tr>\n",
       "    <tr>\n",
       "      <th>customer_id</th>\n",
       "      <th></th>\n",
       "      <th></th>\n",
       "      <th></th>\n",
       "      <th></th>\n",
       "    </tr>\n",
       "  </thead>\n",
       "  <tbody>\n",
       "    <tr>\n",
       "      <td>00012a2ce6f8dcda20d059ce98491703</td>\n",
       "      <td>288</td>\n",
       "      <td>1</td>\n",
       "      <td>114.74</td>\n",
       "      <td>917.92</td>\n",
       "    </tr>\n",
       "    <tr>\n",
       "      <td>000161a058600d5901f007fab4c27140</td>\n",
       "      <td>409</td>\n",
       "      <td>1</td>\n",
       "      <td>67.41</td>\n",
       "      <td>337.05</td>\n",
       "    </tr>\n",
       "    <tr>\n",
       "      <td>0001fd6190edaaf884bcaf3d49edf079</td>\n",
       "      <td>547</td>\n",
       "      <td>1</td>\n",
       "      <td>195.42</td>\n",
       "      <td>1954.20</td>\n",
       "    </tr>\n",
       "    <tr>\n",
       "      <td>0002414f95344307404f0ace7a26f1d5</td>\n",
       "      <td>378</td>\n",
       "      <td>1</td>\n",
       "      <td>179.35</td>\n",
       "      <td>179.35</td>\n",
       "    </tr>\n",
       "    <tr>\n",
       "      <td>000379cdec625522490c315e70c7a9fb</td>\n",
       "      <td>149</td>\n",
       "      <td>1</td>\n",
       "      <td>107.01</td>\n",
       "      <td>107.01</td>\n",
       "    </tr>\n",
       "  </tbody>\n",
       "</table>\n",
       "</div>"
      ],
      "text/plain": [
       "                                  order_purchase_timestamp  order_id  \\\n",
       "customer_id                                                            \n",
       "00012a2ce6f8dcda20d059ce98491703                       288         1   \n",
       "000161a058600d5901f007fab4c27140                       409         1   \n",
       "0001fd6190edaaf884bcaf3d49edf079                       547         1   \n",
       "0002414f95344307404f0ace7a26f1d5                       378         1   \n",
       "000379cdec625522490c315e70c7a9fb                       149         1   \n",
       "\n",
       "                                  payment_value  total_payment  \n",
       "customer_id                                                     \n",
       "00012a2ce6f8dcda20d059ce98491703         114.74         917.92  \n",
       "000161a058600d5901f007fab4c27140          67.41         337.05  \n",
       "0001fd6190edaaf884bcaf3d49edf079         195.42        1954.20  \n",
       "0002414f95344307404f0ace7a26f1d5         179.35         179.35  \n",
       "000379cdec625522490c315e70c7a9fb         107.01         107.01  "
      ]
     },
     "execution_count": 29,
     "metadata": {},
     "output_type": "execute_result"
    }
   ],
   "source": [
    "cltv_data.head()"
   ]
  },
  {
   "cell_type": "code",
   "execution_count": 31,
   "metadata": {},
   "outputs": [
    {
     "data": {
      "text/html": [
       "<div>\n",
       "<style scoped>\n",
       "    .dataframe tbody tr th:only-of-type {\n",
       "        vertical-align: middle;\n",
       "    }\n",
       "\n",
       "    .dataframe tbody tr th {\n",
       "        vertical-align: top;\n",
       "    }\n",
       "\n",
       "    .dataframe thead th {\n",
       "        text-align: right;\n",
       "    }\n",
       "</style>\n",
       "<table border=\"1\" class=\"dataframe\">\n",
       "  <thead>\n",
       "    <tr style=\"text-align: right;\">\n",
       "      <th></th>\n",
       "      <th>num_days</th>\n",
       "      <th>num_transactions</th>\n",
       "      <th>payment_value</th>\n",
       "      <th>total_spent</th>\n",
       "    </tr>\n",
       "    <tr>\n",
       "      <th>customer_id</th>\n",
       "      <th></th>\n",
       "      <th></th>\n",
       "      <th></th>\n",
       "      <th></th>\n",
       "    </tr>\n",
       "  </thead>\n",
       "  <tbody>\n",
       "    <tr>\n",
       "      <td>00012a2ce6f8dcda20d059ce98491703</td>\n",
       "      <td>288</td>\n",
       "      <td>1</td>\n",
       "      <td>114.74</td>\n",
       "      <td>917.92</td>\n",
       "    </tr>\n",
       "    <tr>\n",
       "      <td>000161a058600d5901f007fab4c27140</td>\n",
       "      <td>409</td>\n",
       "      <td>1</td>\n",
       "      <td>67.41</td>\n",
       "      <td>337.05</td>\n",
       "    </tr>\n",
       "    <tr>\n",
       "      <td>0001fd6190edaaf884bcaf3d49edf079</td>\n",
       "      <td>547</td>\n",
       "      <td>1</td>\n",
       "      <td>195.42</td>\n",
       "      <td>1954.20</td>\n",
       "    </tr>\n",
       "    <tr>\n",
       "      <td>0002414f95344307404f0ace7a26f1d5</td>\n",
       "      <td>378</td>\n",
       "      <td>1</td>\n",
       "      <td>179.35</td>\n",
       "      <td>179.35</td>\n",
       "    </tr>\n",
       "    <tr>\n",
       "      <td>000379cdec625522490c315e70c7a9fb</td>\n",
       "      <td>149</td>\n",
       "      <td>1</td>\n",
       "      <td>107.01</td>\n",
       "      <td>107.01</td>\n",
       "    </tr>\n",
       "  </tbody>\n",
       "</table>\n",
       "</div>"
      ],
      "text/plain": [
       "                                  num_days  num_transactions  payment_value  \\\n",
       "customer_id                                                                   \n",
       "00012a2ce6f8dcda20d059ce98491703       288                 1         114.74   \n",
       "000161a058600d5901f007fab4c27140       409                 1          67.41   \n",
       "0001fd6190edaaf884bcaf3d49edf079       547                 1         195.42   \n",
       "0002414f95344307404f0ace7a26f1d5       378                 1         179.35   \n",
       "000379cdec625522490c315e70c7a9fb       149                 1         107.01   \n",
       "\n",
       "                                  total_spent  \n",
       "customer_id                                    \n",
       "00012a2ce6f8dcda20d059ce98491703       917.92  \n",
       "000161a058600d5901f007fab4c27140       337.05  \n",
       "0001fd6190edaaf884bcaf3d49edf079      1954.20  \n",
       "0002414f95344307404f0ace7a26f1d5       179.35  \n",
       "000379cdec625522490c315e70c7a9fb       107.01  "
      ]
     },
     "execution_count": 31,
     "metadata": {},
     "output_type": "execute_result"
    }
   ],
   "source": [
    "# Change the name of columns\n",
    "cltv_data.columns=['num_days','num_transactions','payment_value','total_spent']\n",
    "cltv_data.head()"
   ]
  },
  {
   "cell_type": "code",
   "execution_count": 32,
   "metadata": {},
   "outputs": [],
   "source": [
    "# Average Order Value\n",
    "cltv_data['avg_order_value']=cltv_data['total_spent']/cltv_data['num_transactions']"
   ]
  },
  {
   "cell_type": "code",
   "execution_count": 33,
   "metadata": {},
   "outputs": [
    {
     "data": {
      "text/html": [
       "<table class=\"simpletable\">\n",
       "<caption>OLS Regression Results</caption>\n",
       "<tr>\n",
       "  <th>Dep. Variable:</th>       <td>total_spent</td>   <th>  R-squared:         </th>  <td>   0.661</td>  \n",
       "</tr>\n",
       "<tr>\n",
       "  <th>Model:</th>                   <td>OLS</td>       <th>  Adj. R-squared:    </th>  <td>   0.661</td>  \n",
       "</tr>\n",
       "<tr>\n",
       "  <th>Method:</th>             <td>Least Squares</td>  <th>  F-statistic:       </th>  <td>6.176e+04</td> \n",
       "</tr>\n",
       "<tr>\n",
       "  <th>Date:</th>             <td>Thu, 05 Dec 2019</td> <th>  Prob (F-statistic):</th>   <td>  0.00</td>   \n",
       "</tr>\n",
       "<tr>\n",
       "  <th>Time:</th>                 <td>16:00:39</td>     <th>  Log-Likelihood:    </th> <td>-8.5298e+05</td>\n",
       "</tr>\n",
       "<tr>\n",
       "  <th>No. Observations:</th>      <td> 95128</td>      <th>  AIC:               </th>  <td>1.706e+06</td> \n",
       "</tr>\n",
       "<tr>\n",
       "  <th>Df Residuals:</th>          <td> 95124</td>      <th>  BIC:               </th>  <td>1.706e+06</td> \n",
       "</tr>\n",
       "<tr>\n",
       "  <th>Df Model:</th>              <td>     3</td>      <th>                     </th>      <td> </td>     \n",
       "</tr>\n",
       "<tr>\n",
       "  <th>Covariance Type:</th>      <td>nonrobust</td>    <th>                     </th>      <td> </td>     \n",
       "</tr>\n",
       "</table>\n",
       "<table class=\"simpletable\">\n",
       "<tr>\n",
       "         <td></td>            <th>coef</th>     <th>std err</th>      <th>t</th>      <th>P>|t|</th>  <th>[0.025</th>    <th>0.975]</th>  \n",
       "</tr>\n",
       "<tr>\n",
       "  <th>Intercept</th>       <td> -300.9182</td> <td>   11.703</td> <td>  -25.713</td> <td> 0.000</td> <td> -323.856</td> <td> -277.980</td>\n",
       "</tr>\n",
       "<tr>\n",
       "  <th>num_days</th>        <td>   -0.0119</td> <td>    0.040</td> <td>   -0.295</td> <td> 0.768</td> <td>   -0.091</td> <td>    0.067</td>\n",
       "</tr>\n",
       "<tr>\n",
       "  <th>payment_value</th>   <td>    2.2308</td> <td>    0.011</td> <td>  206.910</td> <td> 0.000</td> <td>    2.210</td> <td>    2.252</td>\n",
       "</tr>\n",
       "<tr>\n",
       "  <th>avg_order_value</th> <td>    1.0659</td> <td>    0.004</td> <td>  262.553</td> <td> 0.000</td> <td>    1.058</td> <td>    1.074</td>\n",
       "</tr>\n",
       "</table>\n",
       "<table class=\"simpletable\">\n",
       "<tr>\n",
       "  <th>Omnibus:</th>       <td>301308.336</td> <th>  Durbin-Watson:     </th>     <td>   1.995</td>    \n",
       "</tr>\n",
       "<tr>\n",
       "  <th>Prob(Omnibus):</th>   <td> 0.000</td>   <th>  Jarque-Bera (JB):  </th> <td>174875936230.883</td>\n",
       "</tr>\n",
       "<tr>\n",
       "  <th>Skew:</th>            <td>50.311</td>   <th>  Prob(JB):          </th>     <td>    0.00</td>    \n",
       "</tr>\n",
       "<tr>\n",
       "  <th>Kurtosis:</th>       <td>6644.507</td>  <th>  Cond. No.          </th>     <td>3.44e+03</td>    \n",
       "</tr>\n",
       "</table><br/><br/>Warnings:<br/>[1] Standard Errors assume that the covariance matrix of the errors is correctly specified.<br/>[2] The condition number is large, 3.44e+03. This might indicate that there are<br/>strong multicollinearity or other numerical problems."
      ],
      "text/plain": [
       "<class 'statsmodels.iolib.summary.Summary'>\n",
       "\"\"\"\n",
       "                            OLS Regression Results                            \n",
       "==============================================================================\n",
       "Dep. Variable:            total_spent   R-squared:                       0.661\n",
       "Model:                            OLS   Adj. R-squared:                  0.661\n",
       "Method:                 Least Squares   F-statistic:                 6.176e+04\n",
       "Date:                Thu, 05 Dec 2019   Prob (F-statistic):               0.00\n",
       "Time:                        16:00:39   Log-Likelihood:            -8.5298e+05\n",
       "No. Observations:               95128   AIC:                         1.706e+06\n",
       "Df Residuals:                   95124   BIC:                         1.706e+06\n",
       "Df Model:                           3                                         \n",
       "Covariance Type:            nonrobust                                         \n",
       "===================================================================================\n",
       "                      coef    std err          t      P>|t|      [0.025      0.975]\n",
       "-----------------------------------------------------------------------------------\n",
       "Intercept        -300.9182     11.703    -25.713      0.000    -323.856    -277.980\n",
       "num_days           -0.0119      0.040     -0.295      0.768      -0.091       0.067\n",
       "payment_value       2.2308      0.011    206.910      0.000       2.210       2.252\n",
       "avg_order_value     1.0659      0.004    262.553      0.000       1.058       1.074\n",
       "==============================================================================\n",
       "Omnibus:                   301308.336   Durbin-Watson:                   1.995\n",
       "Prob(Omnibus):                  0.000   Jarque-Bera (JB):     174875936230.883\n",
       "Skew:                          50.311   Prob(JB):                         0.00\n",
       "Kurtosis:                    6644.507   Cond. No.                     3.44e+03\n",
       "==============================================================================\n",
       "\n",
       "Warnings:\n",
       "[1] Standard Errors assume that the covariance matrix of the errors is correctly specified.\n",
       "[2] The condition number is large, 3.44e+03. This might indicate that there are\n",
       "strong multicollinearity or other numerical problems.\n",
       "\"\"\""
      ]
     },
     "execution_count": 33,
     "metadata": {},
     "output_type": "execute_result"
    }
   ],
   "source": [
    "formula = 'total_spent ~ num_days + payment_value + avg_order_value'\n",
    "\n",
    "fitted_model = smf.ols(formula=formula, data=cltv_data).fit()\n",
    "fitted_model.summary()"
   ]
  },
  {
   "cell_type": "code",
   "execution_count": null,
   "metadata": {},
   "outputs": [],
   "source": [
    "-------------------------------"
   ]
  },
  {
   "cell_type": "code",
   "execution_count": null,
   "metadata": {},
   "outputs": [],
   "source": []
  },
  {
   "cell_type": "code",
   "execution_count": null,
   "metadata": {},
   "outputs": [],
   "source": []
  },
  {
   "cell_type": "code",
   "execution_count": null,
   "metadata": {},
   "outputs": [],
   "source": []
  },
  {
   "cell_type": "code",
   "execution_count": null,
   "metadata": {},
   "outputs": [],
   "source": []
  },
  {
   "cell_type": "code",
   "execution_count": null,
   "metadata": {},
   "outputs": [],
   "source": []
  }
 ],
 "metadata": {
  "kernelspec": {
   "display_name": "Python 3",
   "language": "python",
   "name": "python3"
  },
  "language_info": {
   "codemirror_mode": {
    "name": "ipython",
    "version": 3
   },
   "file_extension": ".py",
   "mimetype": "text/x-python",
   "name": "python",
   "nbconvert_exporter": "python",
   "pygments_lexer": "ipython3",
   "version": "3.7.3"
  }
 },
 "nbformat": 4,
 "nbformat_minor": 2
}
